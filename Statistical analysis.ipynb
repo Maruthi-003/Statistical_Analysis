{
 "cells": [
  {
   "cell_type": "code",
   "execution_count": 1,
   "id": "241737cb-899d-491e-b2e7-09afd8000c7e",
   "metadata": {},
   "outputs": [],
   "source": [
    "import numpy as np\n",
    "import pandas as pd\n",
    "import matplotlib.pyplot as plt \n",
    "from scipy import stats\n",
    "import statsmodels.api as sm\n",
    "import warnings\n",
    "warnings.filterwarnings(\"ignore\")"
   ]
  },
  {
   "cell_type": "code",
   "execution_count": 2,
   "id": "cb667492-af2e-4fd0-8c12-a6efece36746",
   "metadata": {},
   "outputs": [],
   "source": [
    "df=pd.read_csv(\"medical_cost.csv\")"
   ]
  },
  {
   "cell_type": "code",
   "execution_count": 3,
   "id": "3474ac42-5589-46f6-81c9-0ceaa5428ffd",
   "metadata": {},
   "outputs": [
    {
     "data": {
      "text/html": [
       "<div>\n",
       "<style scoped>\n",
       "    .dataframe tbody tr th:only-of-type {\n",
       "        vertical-align: middle;\n",
       "    }\n",
       "\n",
       "    .dataframe tbody tr th {\n",
       "        vertical-align: top;\n",
       "    }\n",
       "\n",
       "    .dataframe thead th {\n",
       "        text-align: right;\n",
       "    }\n",
       "</style>\n",
       "<table border=\"1\" class=\"dataframe\">\n",
       "  <thead>\n",
       "    <tr style=\"text-align: right;\">\n",
       "      <th></th>\n",
       "      <th>age</th>\n",
       "      <th>sex</th>\n",
       "      <th>bmi</th>\n",
       "      <th>children</th>\n",
       "      <th>smoker</th>\n",
       "      <th>charges</th>\n",
       "    </tr>\n",
       "  </thead>\n",
       "  <tbody>\n",
       "    <tr>\n",
       "      <th>0</th>\n",
       "      <td>18</td>\n",
       "      <td>1</td>\n",
       "      <td>33.770</td>\n",
       "      <td>1</td>\n",
       "      <td>0</td>\n",
       "      <td>1725.55230</td>\n",
       "    </tr>\n",
       "    <tr>\n",
       "      <th>1</th>\n",
       "      <td>18</td>\n",
       "      <td>1</td>\n",
       "      <td>34.100</td>\n",
       "      <td>0</td>\n",
       "      <td>0</td>\n",
       "      <td>1137.01100</td>\n",
       "    </tr>\n",
       "    <tr>\n",
       "      <th>2</th>\n",
       "      <td>18</td>\n",
       "      <td>0</td>\n",
       "      <td>26.315</td>\n",
       "      <td>0</td>\n",
       "      <td>0</td>\n",
       "      <td>2198.18985</td>\n",
       "    </tr>\n",
       "    <tr>\n",
       "      <th>3</th>\n",
       "      <td>18</td>\n",
       "      <td>0</td>\n",
       "      <td>38.665</td>\n",
       "      <td>2</td>\n",
       "      <td>0</td>\n",
       "      <td>3393.35635</td>\n",
       "    </tr>\n",
       "    <tr>\n",
       "      <th>4</th>\n",
       "      <td>18</td>\n",
       "      <td>0</td>\n",
       "      <td>35.625</td>\n",
       "      <td>0</td>\n",
       "      <td>0</td>\n",
       "      <td>2211.13075</td>\n",
       "    </tr>\n",
       "  </tbody>\n",
       "</table>\n",
       "</div>"
      ],
      "text/plain": [
       "   age  sex     bmi  children  smoker     charges\n",
       "0   18    1  33.770         1       0  1725.55230\n",
       "1   18    1  34.100         0       0  1137.01100\n",
       "2   18    0  26.315         0       0  2198.18985\n",
       "3   18    0  38.665         2       0  3393.35635\n",
       "4   18    0  35.625         0       0  2211.13075"
      ]
     },
     "execution_count": 3,
     "metadata": {},
     "output_type": "execute_result"
    }
   ],
   "source": [
    "df.head()"
   ]
  },
  {
   "cell_type": "code",
   "execution_count": 4,
   "id": "e61cdcf7-c1b8-4357-a1ab-01975a637257",
   "metadata": {},
   "outputs": [
    {
     "data": {
      "text/plain": [
       "age            39.207025\n",
       "sex             0.505232\n",
       "bmi            30.663397\n",
       "children        1.094918\n",
       "smoker          0.204783\n",
       "charges     13270.422265\n",
       "dtype: float64"
      ]
     },
     "execution_count": 4,
     "metadata": {},
     "output_type": "execute_result"
    }
   ],
   "source": [
    "df.mean()"
   ]
  },
  {
   "cell_type": "code",
   "execution_count": 5,
   "id": "d4da2348-ae2a-45b6-a95d-f76d322523d8",
   "metadata": {},
   "outputs": [
    {
     "data": {
      "text/plain": [
       "age           39.000\n",
       "sex            1.000\n",
       "bmi           30.400\n",
       "children       1.000\n",
       "smoker         0.000\n",
       "charges     9382.033\n",
       "dtype: float64"
      ]
     },
     "execution_count": 5,
     "metadata": {},
     "output_type": "execute_result"
    }
   ],
   "source": [
    "df.median()"
   ]
  },
  {
   "cell_type": "code",
   "execution_count": 6,
   "id": "ab4fd948-b928-4923-b0d8-728e598c0e93",
   "metadata": {},
   "outputs": [
    {
     "data": {
      "text/html": [
       "<div>\n",
       "<style scoped>\n",
       "    .dataframe tbody tr th:only-of-type {\n",
       "        vertical-align: middle;\n",
       "    }\n",
       "\n",
       "    .dataframe tbody tr th {\n",
       "        vertical-align: top;\n",
       "    }\n",
       "\n",
       "    .dataframe thead th {\n",
       "        text-align: right;\n",
       "    }\n",
       "</style>\n",
       "<table border=\"1\" class=\"dataframe\">\n",
       "  <thead>\n",
       "    <tr style=\"text-align: right;\">\n",
       "      <th></th>\n",
       "      <th>age</th>\n",
       "      <th>sex</th>\n",
       "      <th>bmi</th>\n",
       "      <th>children</th>\n",
       "      <th>smoker</th>\n",
       "      <th>charges</th>\n",
       "    </tr>\n",
       "  </thead>\n",
       "  <tbody>\n",
       "    <tr>\n",
       "      <th>0</th>\n",
       "      <td>18</td>\n",
       "      <td>1</td>\n",
       "      <td>32.3</td>\n",
       "      <td>0</td>\n",
       "      <td>0</td>\n",
       "      <td>1639.5631</td>\n",
       "    </tr>\n",
       "  </tbody>\n",
       "</table>\n",
       "</div>"
      ],
      "text/plain": [
       "   age  sex   bmi  children  smoker    charges\n",
       "0   18    1  32.3         0       0  1639.5631"
      ]
     },
     "execution_count": 6,
     "metadata": {},
     "output_type": "execute_result"
    }
   ],
   "source": [
    "df.mode()"
   ]
  },
  {
   "cell_type": "code",
   "execution_count": 7,
   "id": "4e274c03-a01b-4166-8b80-c9781b6ace86",
   "metadata": {},
   "outputs": [
    {
     "data": {
      "text/plain": [
       "age            14.049960\n",
       "sex             0.500160\n",
       "bmi             6.098187\n",
       "children        1.205493\n",
       "smoker          0.403694\n",
       "charges     12110.011237\n",
       "dtype: float64"
      ]
     },
     "execution_count": 7,
     "metadata": {},
     "output_type": "execute_result"
    }
   ],
   "source": [
    "df.std()"
   ]
  },
  {
   "cell_type": "code",
   "execution_count": 8,
   "id": "855b56f5-4529-4528-8b63-e2911a102234",
   "metadata": {},
   "outputs": [
    {
     "data": {
      "text/plain": [
       "age         1.974014e+02\n",
       "sex         2.501596e-01\n",
       "bmi         3.718788e+01\n",
       "children    1.453213e+00\n",
       "smoker      1.629689e-01\n",
       "charges     1.466524e+08\n",
       "dtype: float64"
      ]
     },
     "execution_count": 8,
     "metadata": {},
     "output_type": "execute_result"
    }
   ],
   "source": [
    "df.var()"
   ]
  },
  {
   "cell_type": "code",
   "execution_count": 9,
   "id": "a0836f9a-39bb-4d06-b1c6-473518120258",
   "metadata": {},
   "outputs": [
    {
     "data": {
      "text/plain": [
       "age         0.055673\n",
       "sex        -0.020951\n",
       "bmi         0.284047\n",
       "children    0.938380\n",
       "smoker      1.464766\n",
       "charges     1.515880\n",
       "dtype: float64"
      ]
     },
     "execution_count": 9,
     "metadata": {},
     "output_type": "execute_result"
    }
   ],
   "source": [
    "df.skew()"
   ]
  },
  {
   "cell_type": "code",
   "execution_count": 10,
   "id": "4f2abfa1-3a23-4ddc-89c9-09e5e622a578",
   "metadata": {},
   "outputs": [
    {
     "data": {
      "text/plain": [
       "age        -1.245088\n",
       "sex        -2.002557\n",
       "bmi        -0.050732\n",
       "children    0.202454\n",
       "smoker      0.145756\n",
       "charges     1.606299\n",
       "dtype: float64"
      ]
     },
     "execution_count": 10,
     "metadata": {},
     "output_type": "execute_result"
    }
   ],
   "source": [
    "df.kurtosis()"
   ]
  },
  {
   "cell_type": "code",
   "execution_count": 11,
   "id": "1e5f5a57-f9f8-4dc8-aa6d-0f1253f07ccb",
   "metadata": {},
   "outputs": [
    {
     "data": {
      "text/plain": [
       "age            46.00000\n",
       "sex             1.00000\n",
       "bmi            37.17000\n",
       "children        5.00000\n",
       "smoker          1.00000\n",
       "charges     62648.55411\n",
       "dtype: float64"
      ]
     },
     "execution_count": 11,
     "metadata": {},
     "output_type": "execute_result"
    }
   ],
   "source": [
    "df.max()-df.min()"
   ]
  },
  {
   "cell_type": "code",
   "execution_count": 12,
   "id": "987325c5-4cb6-45fc-8b9e-7690013b8dfe",
   "metadata": {},
   "outputs": [],
   "source": [
    "bmi=df[\"bmi\"]"
   ]
  },
  {
   "cell_type": "code",
   "execution_count": 13,
   "id": "98f57d0a-60c4-4132-9e26-a7c3843eccb7",
   "metadata": {},
   "outputs": [
    {
     "data": {
      "text/plain": [
       "0       33.770\n",
       "1       34.100\n",
       "2       26.315\n",
       "3       38.665\n",
       "4       35.625\n",
       "         ...  \n",
       "1333    31.825\n",
       "1334    26.885\n",
       "1335    26.410\n",
       "1336    36.960\n",
       "1337    23.760\n",
       "Name: bmi, Length: 1338, dtype: float64"
      ]
     },
     "execution_count": 13,
     "metadata": {},
     "output_type": "execute_result"
    }
   ],
   "source": [
    "bmi"
   ]
  },
  {
   "cell_type": "code",
   "execution_count": 14,
   "id": "beb3a11c-b557-4cfc-9d90-726e3c2d3bb9",
   "metadata": {},
   "outputs": [],
   "source": [
    "population_mean = 0.05"
   ]
  },
  {
   "cell_type": "code",
   "execution_count": 15,
   "id": "04a81e73-e602-4320-92fe-5c345d7253c4",
   "metadata": {},
   "outputs": [],
   "source": [
    "t_stat, p_value = stats.ttest_1samp(bmi, population_mean)"
   ]
  },
  {
   "cell_type": "code",
   "execution_count": 16,
   "id": "884f308c-8e99-429c-bf51-81e656cd5822",
   "metadata": {},
   "outputs": [
    {
     "name": "stdout",
     "output_type": "stream",
     "text": [
      "T-Statistic: 183.62797576072794\n",
      "P-Value: 0.0\n"
     ]
    }
   ],
   "source": [
    "print(f\"T-Statistic: {t_stat}\")\n",
    "print(f\"P-Value: {p_value}\")"
   ]
  },
  {
   "cell_type": "code",
   "execution_count": 17,
   "id": "c67c4693-eb00-4471-b386-5c1a0fced456",
   "metadata": {},
   "outputs": [],
   "source": [
    "# Sample mean and standard error for BMI\n",
    "sample_mean = np.mean(bmi)\n",
    "standard_error = stats.sem(bmi)"
   ]
  },
  {
   "cell_type": "code",
   "execution_count": 18,
   "id": "123e25e9-b789-4033-a3b3-d9b19ef11995",
   "metadata": {},
   "outputs": [],
   "source": [
    "# Compute 95% confidence interval for BMI\n",
    "confidence_interval = stats.norm.interval(0.95, loc=sample_mean, scale=standard_error)"
   ]
  },
  {
   "cell_type": "code",
   "execution_count": 19,
   "id": "2fedd5b1-94be-45c8-9270-33e0116a4795",
   "metadata": {},
   "outputs": [
    {
     "name": "stdout",
     "output_type": "stream",
     "text": [
      "95% Confidence Interval for BMI: (30.336642971534822, 30.990150750438275)\n"
     ]
    }
   ],
   "source": [
    "print(f\"95% Confidence Interval for BMI: {confidence_interval}\")"
   ]
  },
  {
   "cell_type": "code",
   "execution_count": 20,
   "id": "4f2da4e9-f534-427a-ac26-8484dca1c10a",
   "metadata": {},
   "outputs": [],
   "source": [
    "# Define independent variable\n",
    "X = sm.add_constant(df['bmi'])"
   ]
  },
  {
   "cell_type": "code",
   "execution_count": 21,
   "id": "139909f0-4b73-4d39-aaf7-2cbb6943efd2",
   "metadata": {},
   "outputs": [],
   "source": [
    "# Define dependent variable\n",
    "y = df['charges']"
   ]
  },
  {
   "cell_type": "code",
   "execution_count": 22,
   "id": "e183bff1-035d-4c6d-bd35-32b7795fe1fa",
   "metadata": {},
   "outputs": [],
   "source": [
    "# Fit linear regression model\n",
    "model = sm.OLS(y, X).fit()"
   ]
  },
  {
   "cell_type": "code",
   "execution_count": 23,
   "id": "4e46dc87-6617-4e38-bfdd-298ee876a4d5",
   "metadata": {},
   "outputs": [
    {
     "name": "stdout",
     "output_type": "stream",
     "text": [
      "                            OLS Regression Results                            \n",
      "==============================================================================\n",
      "Dep. Variable:                charges   R-squared:                       0.039\n",
      "Model:                            OLS   Adj. R-squared:                  0.039\n",
      "Method:                 Least Squares   F-statistic:                     54.71\n",
      "Date:                Sun, 08 Sep 2024   Prob (F-statistic):           2.46e-13\n",
      "Time:                        11:52:27   Log-Likelihood:                -14451.\n",
      "No. Observations:                1338   AIC:                         2.891e+04\n",
      "Df Residuals:                    1336   BIC:                         2.892e+04\n",
      "Df Model:                           1                                         \n",
      "Covariance Type:            nonrobust                                         \n",
      "==============================================================================\n",
      "                 coef    std err          t      P>|t|      [0.025      0.975]\n",
      "------------------------------------------------------------------------------\n",
      "const       1192.9372   1664.802      0.717      0.474   -2072.974    4458.849\n",
      "bmi          393.8730     53.251      7.397      0.000     289.409     498.337\n",
      "==============================================================================\n",
      "Omnibus:                      261.030   Durbin-Watson:                   1.850\n",
      "Prob(Omnibus):                  0.000   Jarque-Bera (JB):              431.091\n",
      "Skew:                           1.297   Prob(JB):                     2.45e-94\n",
      "Kurtosis:                       4.004   Cond. No.                         160.\n",
      "==============================================================================\n",
      "\n",
      "Notes:\n",
      "[1] Standard Errors assume that the covariance matrix of the errors is correctly specified.\n"
     ]
    }
   ],
   "source": [
    "print(model.summary())"
   ]
  },
  {
   "cell_type": "code",
   "execution_count": null,
   "id": "1f679ab5-3124-4505-9011-c514e9163fae",
   "metadata": {},
   "outputs": [],
   "source": []
  }
 ],
 "metadata": {
  "kernelspec": {
   "display_name": "Python 3 (ipykernel)",
   "language": "python",
   "name": "python3"
  },
  "language_info": {
   "codemirror_mode": {
    "name": "ipython",
    "version": 3
   },
   "file_extension": ".py",
   "mimetype": "text/x-python",
   "name": "python",
   "nbconvert_exporter": "python",
   "pygments_lexer": "ipython3",
   "version": "3.11.7"
  }
 },
 "nbformat": 4,
 "nbformat_minor": 5
}
